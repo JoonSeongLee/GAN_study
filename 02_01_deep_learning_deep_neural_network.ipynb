{
 "cells": [
  {
   "cell_type": "markdown",
   "metadata": {},
   "source": [
    "# Your first deep neural network"
   ]
  },
  {
   "cell_type": "code",
   "execution_count": 15,
   "metadata": {},
   "outputs": [
    {
     "data": {
      "text/plain": [
       "'2.5.0'"
      ]
     },
     "execution_count": 15,
     "metadata": {},
     "output_type": "execute_result"
    }
   ],
   "source": [
    "import tensorflow as tf\n",
    "tf.__version__"
   ]
  },
  {
   "cell_type": "markdown",
   "metadata": {},
   "source": [
    "# imports"
   ]
  },
  {
   "cell_type": "code",
   "execution_count": 16,
   "metadata": {},
   "outputs": [],
   "source": [
    "import numpy as np\n",
    "import matplotlib.pyplot as plt\n",
    "\n",
    "from tensorflow.keras.layers import Input, Flatten, Dense, Conv2D\n",
    "from tensorflow.keras.models import Model\n",
    "from tensorflow.keras.optimizers import Adam\n",
    "from tensorflow.keras.utils import to_categorical\n",
    "\n",
    "from tensorflow.keras.datasets import cifar10"
   ]
  },
  {
   "cell_type": "markdown",
   "metadata": {},
   "source": [
    "# data"
   ]
  },
  {
   "cell_type": "code",
   "execution_count": 17,
   "metadata": {},
   "outputs": [],
   "source": [
    "NUM_CLASSES = 10"
   ]
  },
  {
   "cell_type": "code",
   "execution_count": 18,
   "metadata": {},
   "outputs": [],
   "source": [
    "(x_train, y_train), (x_test, y_test) = cifar10.load_data()"
   ]
  },
  {
   "cell_type": "code",
   "execution_count": 19,
   "metadata": {},
   "outputs": [
    {
     "data": {
      "text/plain": [
       "(50000, 32, 32, 3)"
      ]
     },
     "execution_count": 19,
     "metadata": {},
     "output_type": "execute_result"
    }
   ],
   "source": [
    "x_train.shape"
   ]
  },
  {
   "cell_type": "code",
   "execution_count": 20,
   "metadata": {
    "scrolled": true
   },
   "outputs": [
    {
     "data": {
      "text/plain": [
       "array([[[ 59,  62,  63],\n",
       "        [ 43,  46,  45],\n",
       "        [ 50,  48,  43],\n",
       "        ...,\n",
       "        [158, 132, 108],\n",
       "        [152, 125, 102],\n",
       "        [148, 124, 103]],\n",
       "\n",
       "       [[ 16,  20,  20],\n",
       "        [  0,   0,   0],\n",
       "        [ 18,   8,   0],\n",
       "        ...,\n",
       "        [123,  88,  55],\n",
       "        [119,  83,  50],\n",
       "        [122,  87,  57]],\n",
       "\n",
       "       [[ 25,  24,  21],\n",
       "        [ 16,   7,   0],\n",
       "        [ 49,  27,   8],\n",
       "        ...,\n",
       "        [118,  84,  50],\n",
       "        [120,  84,  50],\n",
       "        [109,  73,  42]],\n",
       "\n",
       "       ...,\n",
       "\n",
       "       [[208, 170,  96],\n",
       "        [201, 153,  34],\n",
       "        [198, 161,  26],\n",
       "        ...,\n",
       "        [160, 133,  70],\n",
       "        [ 56,  31,   7],\n",
       "        [ 53,  34,  20]],\n",
       "\n",
       "       [[180, 139,  96],\n",
       "        [173, 123,  42],\n",
       "        [186, 144,  30],\n",
       "        ...,\n",
       "        [184, 148,  94],\n",
       "        [ 97,  62,  34],\n",
       "        [ 83,  53,  34]],\n",
       "\n",
       "       [[177, 144, 116],\n",
       "        [168, 129,  94],\n",
       "        [179, 142,  87],\n",
       "        ...,\n",
       "        [216, 184, 140],\n",
       "        [151, 118,  84],\n",
       "        [123,  92,  72]]], dtype=uint8)"
      ]
     },
     "execution_count": 20,
     "metadata": {},
     "output_type": "execute_result"
    }
   ],
   "source": [
    "x_train[0]"
   ]
  },
  {
   "cell_type": "code",
   "execution_count": 21,
   "metadata": {},
   "outputs": [
    {
     "data": {
      "text/plain": [
       "(50000, 1)"
      ]
     },
     "execution_count": 21,
     "metadata": {},
     "output_type": "execute_result"
    }
   ],
   "source": [
    "y_train.shape"
   ]
  },
  {
   "cell_type": "code",
   "execution_count": 22,
   "metadata": {},
   "outputs": [
    {
     "data": {
      "text/plain": [
       "array([6], dtype=uint8)"
      ]
     },
     "execution_count": 22,
     "metadata": {},
     "output_type": "execute_result"
    }
   ],
   "source": [
    "y_train[0]"
   ]
  },
  {
   "cell_type": "code",
   "execution_count": 23,
   "metadata": {},
   "outputs": [],
   "source": [
    "x_train = x_train.astype('float32') / 255.0\n",
    "x_test = x_test.astype('float32') / 255.0\n",
    "\n",
    "y_train = to_categorical(y_train, NUM_CLASSES)\n",
    "y_test = to_categorical(y_test, NUM_CLASSES)"
   ]
  },
  {
   "cell_type": "code",
   "execution_count": 24,
   "metadata": {},
   "outputs": [
    {
     "data": {
      "text/plain": [
       "0.36862746"
      ]
     },
     "execution_count": 24,
     "metadata": {},
     "output_type": "execute_result"
    }
   ],
   "source": [
    "x_train[54, 12, 13, 1] "
   ]
  },
  {
   "cell_type": "code",
   "execution_count": 25,
   "metadata": {},
   "outputs": [
    {
     "data": {
      "text/plain": [
       "array([0.2627451 , 0.36862746, 0.16470589], dtype=float32)"
      ]
     },
     "execution_count": 25,
     "metadata": {},
     "output_type": "execute_result"
    }
   ],
   "source": [
    "x_train[54, 12, 13]"
   ]
  },
  {
   "cell_type": "markdown",
   "metadata": {},
   "source": [
    "# architecture"
   ]
  },
  {
   "cell_type": "code",
   "execution_count": 26,
   "metadata": {},
   "outputs": [],
   "source": [
    "input_layer = Input((32,32,3))\n",
    "\n",
    "x = Flatten()(input_layer)\n",
    "\n",
    "x = Dense(200, activation = 'relu')(x)\n",
    "x = Dense(150, activation = 'relu')(x)\n",
    "\n",
    "output_layer = Dense(NUM_CLASSES, activation = 'softmax')(x)\n",
    "\n",
    "model = Model(input_layer, output_layer)"
   ]
  },
  {
   "cell_type": "code",
   "execution_count": 42,
   "metadata": {},
   "outputs": [
    {
     "data": {
      "text/plain": [
       "<tensorflow.python.keras.engine.functional.Functional at 0x7fac24423790>"
      ]
     },
     "execution_count": 42,
     "metadata": {},
     "output_type": "execute_result"
    }
   ],
   "source": [
    "model"
   ]
  },
  {
   "cell_type": "code",
   "execution_count": 27,
   "metadata": {},
   "outputs": [
    {
     "name": "stdout",
     "output_type": "stream",
     "text": [
      "Model: \"model\"\n",
      "_________________________________________________________________\n",
      "Layer (type)                 Output Shape              Param #   \n",
      "=================================================================\n",
      "input_1 (InputLayer)         [(None, 32, 32, 3)]       0         \n",
      "_________________________________________________________________\n",
      "flatten (Flatten)            (None, 3072)              0         \n",
      "_________________________________________________________________\n",
      "dense (Dense)                (None, 200)               614600    \n",
      "_________________________________________________________________\n",
      "dense_1 (Dense)              (None, 150)               30150     \n",
      "_________________________________________________________________\n",
      "dense_2 (Dense)              (None, 10)                1510      \n",
      "=================================================================\n",
      "Total params: 646,260\n",
      "Trainable params: 646,260\n",
      "Non-trainable params: 0\n",
      "_________________________________________________________________\n"
     ]
    }
   ],
   "source": [
    "model.summary()"
   ]
  },
  {
   "cell_type": "markdown",
   "metadata": {},
   "source": [
    "# train"
   ]
  },
  {
   "cell_type": "code",
   "execution_count": 28,
   "metadata": {},
   "outputs": [
    {
     "name": "stderr",
     "output_type": "stream",
     "text": [
      "/opt/anaconda3/envs/tf/lib/python3.7/site-packages/tensorflow/python/keras/optimizer_v2/optimizer_v2.py:375: UserWarning: The `lr` argument is deprecated, use `learning_rate` instead.\n",
      "  \"The `lr` argument is deprecated, use `learning_rate` instead.\")\n"
     ]
    }
   ],
   "source": [
    "opt = Adam(lr=0.0005)\n",
    "model.compile(loss='categorical_crossentropy', optimizer=opt, metrics=['accuracy'])"
   ]
  },
  {
   "cell_type": "code",
   "execution_count": 33,
   "metadata": {
    "scrolled": true
   },
   "outputs": [
    {
     "name": "stdout",
     "output_type": "stream",
     "text": [
      "Epoch 1/100\n",
      "1563/1563 [==============================] - 3s 2ms/step - loss: 1.3606 - accuracy: 0.5160\n",
      "Epoch 2/100\n",
      "1563/1563 [==============================] - 3s 2ms/step - loss: 1.3467 - accuracy: 0.5197\n",
      "Epoch 3/100\n",
      "1563/1563 [==============================] - 3s 2ms/step - loss: 1.3247 - accuracy: 0.5283\n",
      "Epoch 4/100\n",
      "1563/1563 [==============================] - 3s 2ms/step - loss: 1.3072 - accuracy: 0.5341\n",
      "Epoch 5/100\n",
      "1563/1563 [==============================] - 3s 2ms/step - loss: 1.2997 - accuracy: 0.5381\n",
      "Epoch 6/100\n",
      "1563/1563 [==============================] - 3s 2ms/step - loss: 1.2822 - accuracy: 0.5411\n",
      "Epoch 7/100\n",
      "1563/1563 [==============================] - 3s 2ms/step - loss: 1.2705 - accuracy: 0.5460\n",
      "Epoch 8/100\n",
      "1563/1563 [==============================] - 3s 2ms/step - loss: 1.2630 - accuracy: 0.5466\n",
      "Epoch 9/100\n",
      "1563/1563 [==============================] - 3s 2ms/step - loss: 1.2522 - accuracy: 0.5522\n",
      "Epoch 10/100\n",
      "1563/1563 [==============================] - 3s 2ms/step - loss: 1.2394 - accuracy: 0.5572\n",
      "Epoch 11/100\n",
      "1563/1563 [==============================] - 3s 2ms/step - loss: 1.2315 - accuracy: 0.5603\n",
      "Epoch 12/100\n",
      "1563/1563 [==============================] - 3s 2ms/step - loss: 1.2248 - accuracy: 0.5630\n",
      "Epoch 13/100\n",
      "1563/1563 [==============================] - 3s 2ms/step - loss: 1.2107 - accuracy: 0.5661\n",
      "Epoch 14/100\n",
      "1563/1563 [==============================] - 4s 2ms/step - loss: 1.2032 - accuracy: 0.5699\n",
      "Epoch 15/100\n",
      "1563/1563 [==============================] - 3s 2ms/step - loss: 1.1981 - accuracy: 0.5721\n",
      "Epoch 16/100\n",
      "1563/1563 [==============================] - 3s 2ms/step - loss: 1.1863 - accuracy: 0.5737\n",
      "Epoch 17/100\n",
      "1563/1563 [==============================] - 3s 2ms/step - loss: 1.1796 - accuracy: 0.5780\n",
      "Epoch 18/100\n",
      "1563/1563 [==============================] - 3s 2ms/step - loss: 1.1748 - accuracy: 0.5796\n",
      "Epoch 19/100\n",
      "1563/1563 [==============================] - 3s 2ms/step - loss: 1.1627 - accuracy: 0.5823\n",
      "Epoch 20/100\n",
      "1563/1563 [==============================] - 3s 2ms/step - loss: 1.1563 - accuracy: 0.5835\n",
      "Epoch 21/100\n",
      "1563/1563 [==============================] - 4s 2ms/step - loss: 1.1539 - accuracy: 0.5881\n",
      "Epoch 22/100\n",
      "1563/1563 [==============================] - 3s 2ms/step - loss: 1.1423 - accuracy: 0.5889\n",
      "Epoch 23/100\n",
      "1563/1563 [==============================] - 3s 2ms/step - loss: 1.1368 - accuracy: 0.5929\n",
      "Epoch 24/100\n",
      "1563/1563 [==============================] - 3s 2ms/step - loss: 1.1290 - accuracy: 0.5960\n",
      "Epoch 25/100\n",
      "1563/1563 [==============================] - 4s 2ms/step - loss: 1.1262 - accuracy: 0.5961\n",
      "Epoch 26/100\n",
      "1563/1563 [==============================] - 4s 2ms/step - loss: 1.1211 - accuracy: 0.5992\n",
      "Epoch 27/100\n",
      "1563/1563 [==============================] - 4s 3ms/step - loss: 1.1102 - accuracy: 0.6042\n",
      "Epoch 28/100\n",
      "1563/1563 [==============================] - 4s 2ms/step - loss: 1.1087 - accuracy: 0.6017\n",
      "Epoch 29/100\n",
      "1563/1563 [==============================] - 4s 3ms/step - loss: 1.1022 - accuracy: 0.6056\n",
      "Epoch 30/100\n",
      "1563/1563 [==============================] - 4s 2ms/step - loss: 1.0985 - accuracy: 0.6066\n",
      "Epoch 31/100\n",
      "1563/1563 [==============================] - 4s 2ms/step - loss: 1.0939 - accuracy: 0.6089\n",
      "Epoch 32/100\n",
      "1563/1563 [==============================] - 3s 2ms/step - loss: 1.0856 - accuracy: 0.6104\n",
      "Epoch 33/100\n",
      "1563/1563 [==============================] - 4s 2ms/step - loss: 1.0781 - accuracy: 0.6138\n",
      "Epoch 34/100\n",
      "1563/1563 [==============================] - 3s 2ms/step - loss: 1.0713 - accuracy: 0.6172\n",
      "Epoch 35/100\n",
      "1563/1563 [==============================] - 3s 2ms/step - loss: 1.0711 - accuracy: 0.6169\n",
      "Epoch 36/100\n",
      "1563/1563 [==============================] - 4s 2ms/step - loss: 1.0631 - accuracy: 0.6196\n",
      "Epoch 37/100\n",
      "1563/1563 [==============================] - 4s 2ms/step - loss: 1.0623 - accuracy: 0.6194\n",
      "Epoch 38/100\n",
      "1563/1563 [==============================] - 3s 2ms/step - loss: 1.0562 - accuracy: 0.6213\n",
      "Epoch 39/100\n",
      "1563/1563 [==============================] - 3s 2ms/step - loss: 1.0527 - accuracy: 0.6228\n",
      "Epoch 40/100\n",
      "1563/1563 [==============================] - 3s 2ms/step - loss: 1.0458 - accuracy: 0.6254\n",
      "Epoch 41/100\n",
      "1563/1563 [==============================] - 4s 2ms/step - loss: 1.0378 - accuracy: 0.6269\n",
      "Epoch 42/100\n",
      "1563/1563 [==============================] - 3s 2ms/step - loss: 1.0418 - accuracy: 0.6254\n",
      "Epoch 43/100\n",
      "1563/1563 [==============================] - 3s 2ms/step - loss: 1.0345 - accuracy: 0.6292\n",
      "Epoch 44/100\n",
      "1563/1563 [==============================] - 3s 2ms/step - loss: 1.0257 - accuracy: 0.6317\n",
      "Epoch 45/100\n",
      "1563/1563 [==============================] - 3s 2ms/step - loss: 1.0259 - accuracy: 0.6309\n",
      "Epoch 46/100\n",
      "1563/1563 [==============================] - 3s 2ms/step - loss: 1.0207 - accuracy: 0.6324\n",
      "Epoch 47/100\n",
      "1563/1563 [==============================] - 3s 2ms/step - loss: 1.0148 - accuracy: 0.6365\n",
      "Epoch 48/100\n",
      "1563/1563 [==============================] - 3s 2ms/step - loss: 1.0109 - accuracy: 0.6386\n",
      "Epoch 49/100\n",
      "1563/1563 [==============================] - 3s 2ms/step - loss: 1.0109 - accuracy: 0.6406\n",
      "Epoch 50/100\n",
      "1563/1563 [==============================] - 4s 3ms/step - loss: 1.0026 - accuracy: 0.6421\n",
      "Epoch 51/100\n",
      "1563/1563 [==============================] - 3s 2ms/step - loss: 1.0002 - accuracy: 0.6416\n",
      "Epoch 52/100\n",
      "1563/1563 [==============================] - 4s 2ms/step - loss: 0.9979 - accuracy: 0.6432\n",
      "Epoch 53/100\n",
      "1563/1563 [==============================] - 3s 2ms/step - loss: 0.9953 - accuracy: 0.6430\n",
      "Epoch 54/100\n",
      "1563/1563 [==============================] - 3s 2ms/step - loss: 0.9891 - accuracy: 0.6454\n",
      "Epoch 55/100\n",
      "1563/1563 [==============================] - 3s 2ms/step - loss: 0.9879 - accuracy: 0.6457\n",
      "Epoch 56/100\n",
      "1563/1563 [==============================] - 3s 2ms/step - loss: 0.9818 - accuracy: 0.6466\n",
      "Epoch 57/100\n",
      "1563/1563 [==============================] - 3s 2ms/step - loss: 0.9769 - accuracy: 0.6500\n",
      "Epoch 58/100\n",
      "1563/1563 [==============================] - 3s 2ms/step - loss: 0.9751 - accuracy: 0.6521\n",
      "Epoch 59/100\n",
      "1563/1563 [==============================] - 3s 2ms/step - loss: 0.9693 - accuracy: 0.6513\n",
      "Epoch 60/100\n",
      "1563/1563 [==============================] - 4s 2ms/step - loss: 0.9680 - accuracy: 0.6540\n",
      "Epoch 61/100\n",
      "1563/1563 [==============================] - 4s 2ms/step - loss: 0.9675 - accuracy: 0.6542\n",
      "Epoch 62/100\n",
      "1563/1563 [==============================] - 4s 2ms/step - loss: 0.9568 - accuracy: 0.6561\n",
      "Epoch 63/100\n",
      "1563/1563 [==============================] - 4s 2ms/step - loss: 0.9575 - accuracy: 0.6572\n",
      "Epoch 64/100\n",
      "1563/1563 [==============================] - 4s 2ms/step - loss: 0.9568 - accuracy: 0.6555\n",
      "Epoch 65/100\n",
      "1563/1563 [==============================] - 3s 2ms/step - loss: 0.9549 - accuracy: 0.6577\n",
      "Epoch 66/100\n",
      "1563/1563 [==============================] - 3s 2ms/step - loss: 0.9461 - accuracy: 0.6606\n",
      "Epoch 67/100\n",
      "1563/1563 [==============================] - 3s 2ms/step - loss: 0.9446 - accuracy: 0.6603\n",
      "Epoch 68/100\n",
      "1563/1563 [==============================] - 4s 2ms/step - loss: 0.9462 - accuracy: 0.6600\n",
      "Epoch 69/100\n",
      "1563/1563 [==============================] - 3s 2ms/step - loss: 0.9406 - accuracy: 0.6606\n",
      "Epoch 70/100\n",
      "1563/1563 [==============================] - 3s 2ms/step - loss: 0.9407 - accuracy: 0.6614\n",
      "Epoch 71/100\n",
      "1563/1563 [==============================] - 4s 2ms/step - loss: 0.9347 - accuracy: 0.6644\n",
      "Epoch 72/100\n",
      "1563/1563 [==============================] - 3s 2ms/step - loss: 0.9309 - accuracy: 0.6676\n",
      "Epoch 73/100\n",
      "1563/1563 [==============================] - 4s 2ms/step - loss: 0.9299 - accuracy: 0.6642\n",
      "Epoch 74/100\n",
      "1563/1563 [==============================] - 3s 2ms/step - loss: 0.9276 - accuracy: 0.6669\n",
      "Epoch 75/100\n",
      "1563/1563 [==============================] - 3s 2ms/step - loss: 0.9253 - accuracy: 0.6676\n",
      "Epoch 76/100\n",
      "1563/1563 [==============================] - 3s 2ms/step - loss: 0.9225 - accuracy: 0.6679\n",
      "Epoch 77/100\n",
      "1563/1563 [==============================] - 4s 2ms/step - loss: 0.9201 - accuracy: 0.6694\n",
      "Epoch 78/100\n",
      "1563/1563 [==============================] - 3s 2ms/step - loss: 0.9186 - accuracy: 0.6696\n",
      "Epoch 79/100\n"
     ]
    },
    {
     "name": "stdout",
     "output_type": "stream",
     "text": [
      "1563/1563 [==============================] - 3s 2ms/step - loss: 0.9139 - accuracy: 0.6729\n",
      "Epoch 80/100\n",
      "1563/1563 [==============================] - 3s 2ms/step - loss: 0.9070 - accuracy: 0.6743\n",
      "Epoch 81/100\n",
      "1563/1563 [==============================] - 3s 2ms/step - loss: 0.9060 - accuracy: 0.6732\n",
      "Epoch 82/100\n",
      "1563/1563 [==============================] - 3s 2ms/step - loss: 0.9024 - accuracy: 0.6743\n",
      "Epoch 83/100\n",
      "1563/1563 [==============================] - 3s 2ms/step - loss: 0.9023 - accuracy: 0.6742\n",
      "Epoch 84/100\n",
      "1563/1563 [==============================] - 3s 2ms/step - loss: 0.8955 - accuracy: 0.6784\n",
      "Epoch 85/100\n",
      "1563/1563 [==============================] - 4s 2ms/step - loss: 0.8953 - accuracy: 0.6778\n",
      "Epoch 86/100\n",
      "1563/1563 [==============================] - 3s 2ms/step - loss: 0.8944 - accuracy: 0.6784\n",
      "Epoch 87/100\n",
      "1563/1563 [==============================] - 3s 2ms/step - loss: 0.8977 - accuracy: 0.6761\n",
      "Epoch 88/100\n",
      "1563/1563 [==============================] - 3s 2ms/step - loss: 0.8885 - accuracy: 0.6815\n",
      "Epoch 89/100\n",
      "1563/1563 [==============================] - 3s 2ms/step - loss: 0.8877 - accuracy: 0.6806\n",
      "Epoch 90/100\n",
      "1563/1563 [==============================] - 3s 2ms/step - loss: 0.8798 - accuracy: 0.6828\n",
      "Epoch 91/100\n",
      "1563/1563 [==============================] - 3s 2ms/step - loss: 0.8824 - accuracy: 0.6815\n",
      "Epoch 92/100\n",
      "1563/1563 [==============================] - 3s 2ms/step - loss: 0.8826 - accuracy: 0.6843\n",
      "Epoch 93/100\n",
      "1563/1563 [==============================] - 3s 2ms/step - loss: 0.8791 - accuracy: 0.6864\n",
      "Epoch 94/100\n",
      "1563/1563 [==============================] - 3s 2ms/step - loss: 0.8742 - accuracy: 0.6859\n",
      "Epoch 95/100\n",
      "1563/1563 [==============================] - 3s 2ms/step - loss: 0.8687 - accuracy: 0.6890\n",
      "Epoch 96/100\n",
      "1563/1563 [==============================] - 3s 2ms/step - loss: 0.8708 - accuracy: 0.6859\n",
      "Epoch 97/100\n",
      "1563/1563 [==============================] - 3s 2ms/step - loss: 0.8667 - accuracy: 0.6882\n",
      "Epoch 98/100\n",
      "1563/1563 [==============================] - 3s 2ms/step - loss: 0.8647 - accuracy: 0.6898\n",
      "Epoch 99/100\n",
      "1563/1563 [==============================] - 3s 2ms/step - loss: 0.8661 - accuracy: 0.6861\n",
      "Epoch 100/100\n",
      "1563/1563 [==============================] - 3s 2ms/step - loss: 0.8623 - accuracy: 0.6899\n"
     ]
    },
    {
     "data": {
      "text/plain": [
       "<tensorflow.python.keras.callbacks.History at 0x7fabe7915550>"
      ]
     },
     "execution_count": 33,
     "metadata": {},
     "output_type": "execute_result"
    }
   ],
   "source": [
    "model.fit(x_train\n",
    "          , y_train\n",
    "          , batch_size=32\n",
    "          , epochs=100\n",
    "          , shuffle=True)"
   ]
  },
  {
   "cell_type": "markdown",
   "metadata": {},
   "source": [
    "# analysis"
   ]
  },
  {
   "cell_type": "code",
   "execution_count": 34,
   "metadata": {},
   "outputs": [
    {
     "name": "stdout",
     "output_type": "stream",
     "text": [
      "313/313 [==============================] - 0s 1ms/step - loss: 1.7489 - accuracy: 0.4896\n"
     ]
    },
    {
     "data": {
      "text/plain": [
       "[1.7489384412765503, 0.4896000027656555]"
      ]
     },
     "execution_count": 34,
     "metadata": {},
     "output_type": "execute_result"
    }
   ],
   "source": [
    "model.evaluate(x_test, y_test)"
   ]
  },
  {
   "cell_type": "code",
   "execution_count": 35,
   "metadata": {},
   "outputs": [],
   "source": [
    "CLASSES = np.array(['airplane', 'automobile', 'bird', 'cat', 'deer', 'dog', 'frog', 'horse', 'ship', 'truck'])\n",
    "\n",
    "preds = model.predict(x_test)\n",
    "preds_single = CLASSES[np.argmax(preds, axis = -1)]\n",
    "actual_single = CLASSES[np.argmax(y_test, axis = -1)]"
   ]
  },
  {
   "cell_type": "code",
   "execution_count": 44,
   "metadata": {},
   "outputs": [
    {
     "data": {
      "text/plain": [
       "(10000, 10)"
      ]
     },
     "execution_count": 44,
     "metadata": {},
     "output_type": "execute_result"
    }
   ],
   "source": [
    "preds.shape"
   ]
  },
  {
   "cell_type": "code",
   "execution_count": 45,
   "metadata": {},
   "outputs": [
    {
     "data": {
      "text/plain": [
       "array([3.3808651e-03, 1.6107166e-02, 2.0123818e-03, 3.8203833e-01,\n",
       "       1.4008039e-01, 3.5386625e-01, 1.5500109e-04, 4.5269232e-02,\n",
       "       5.4077875e-02, 3.0125247e-03], dtype=float32)"
      ]
     },
     "execution_count": 45,
     "metadata": {},
     "output_type": "execute_result"
    }
   ],
   "source": [
    "preds[0]"
   ]
  },
  {
   "cell_type": "code",
   "execution_count": 41,
   "metadata": {},
   "outputs": [
    {
     "data": {
      "image/png": "[encoded data removed]",
      "text/plain": [
       "<Figure size 1080x216 with 10 Axes>"
      ]
     },
     "metadata": {
      "needs_background": "light"
     },
     "output_type": "display_data"
    }
   ],
   "source": [
    "\n",
    "n_to_show = 10\n",
    "indices = np.random.choice(range(len(x_test)), n_to_show)\n",
    "\n",
    "fig = plt.figure(figsize=(15, 3))\n",
    "fig.subplots_adjust(hspace=0.4, wspace=0.4)\n",
    "\n",
    "for i, idx in enumerate(indices):\n",
    "    img = x_test[idx]\n",
    "    ax = fig.add_subplot(1, n_to_show, i+1)\n",
    "    ax.axis('off')\n",
    "    ax.text(0.5, -0.35, 'pred = ' + str(preds_single[idx]), fontsize=10, ha='center', transform=ax.transAxes) \n",
    "    ax.text(0.5, -0.7, 'act = ' + str(actual_single[idx]), fontsize=10, ha='center', transform=ax.transAxes)\n",
    "    ax.imshow(img)\n"
   ]
  },
  {
   "cell_type": "code",
   "execution_count": null,
   "metadata": {},
   "outputs": [],
   "source": []
  }
 ],
 "metadata": {
  "interpreter": {
   "hash": "10e89b4373ca82b9aa008416dbc6678ec2573a3d463e333e4d350f38af34d33f"
  },
  "kernelspec": {
   "display_name": "Python 3",
   "language": "python",
   "name": "python3"
  },
  "language_info": {
   "codemirror_mode": {
    "name": "ipython",
    "version": 3
   },
   "file_extension": ".py",
   "mimetype": "text/x-python",
   "name": "python",
   "nbconvert_exporter": "python",
   "pygments_lexer": "ipython3",
   "version": "3.7.10"
  }
 },
 "nbformat": 4,
 "nbformat_minor": 2
}
