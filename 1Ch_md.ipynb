{
 "cells": [
  {
   "cell_type": "markdown",
   "id": "f7da0844",
   "metadata": {},
   "source": [
    "## 1.1.1 생성모델과 판별모델\n",
    "\n",
    "--------------------------\n",
    "\n",
    "**판별 모델링**은 샘플 $x$가 주어졌을때 레이블 y의 확률 $p(y \\mid x )$을 추정합니다.\n",
    "\n",
    "--------------------------\n",
    "\n",
    "**생성 모델링**은 샘플 $x$의 관측 확률 $ p( x )$ 를 추정합니다.\n",
    "\n",
    "데이셋이 레이블을 가지고 있다면 확률 $ p(x \\mid y ) $ 를 추정하는 생성 모델을 만들 수도 있습니다."
   ]
  },
  {
   "cell_type": "code",
   "execution_count": null,
   "id": "d4aed5a0",
   "metadata": {},
   "outputs": [],
   "source": []
  }
 ],
 "metadata": {
  "kernelspec": {
   "display_name": "Python 3",
   "language": "python",
   "name": "python3"
  },
  "language_info": {
   "codemirror_mode": {
    "name": "ipython",
    "version": 3
   },
   "file_extension": ".py",
   "mimetype": "text/x-python",
   "name": "python",
   "nbconvert_exporter": "python",
   "pygments_lexer": "ipython3",
   "version": "3.7.10"
  }
 },
 "nbformat": 4,
 "nbformat_minor": 5
}
